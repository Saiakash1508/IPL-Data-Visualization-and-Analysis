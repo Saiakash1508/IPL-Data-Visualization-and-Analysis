{
  "nbformat": 4,
  "nbformat_minor": 0,
  "metadata": {
    "colab": {
      "provenance": [],
      "authorship_tag": "ABX9TyM8x7KHFfhDBP+wukZXUCUN",
      "include_colab_link": true
    },
    "kernelspec": {
      "name": "python3",
      "display_name": "Python 3"
    },
    "language_info": {
      "name": "python"
    }
  },
  "cells": [
    {
      "cell_type": "markdown",
      "metadata": {
        "id": "view-in-github",
        "colab_type": "text"
      },
      "source": [
        "<a href=\"https://colab.research.google.com/github/Saiakash1508/IPL-Data-Visualization-and-Analysis/blob/main/IPL_Data_Visualization_and_Analysis.ipynb\" target=\"_parent\"><img src=\"https://colab.research.google.com/assets/colab-badge.svg\" alt=\"Open In Colab\"/></a>"
      ]
    },
    {
      "cell_type": "markdown",
      "source": [
        "# ***IPL Data Analysis and Visualization Project using Python***"
      ],
      "metadata": {
        "id": "VTq2sraFgo1x"
      }
    },
    {
      "cell_type": "markdown",
      "source": [
        "# **Contents**\n",
        "\n",
        "1 Introduction\n",
        "\n",
        "2 Importing Libraries\n",
        "\n",
        "3 IPL Dataset\n",
        "\n",
        "    3.1 Importing IPL Dataset\n",
        "\n",
        "    3.2 Checking IPL Dataset Attributes\n",
        "4 IPL Data Analysis and Visualization with Python\n",
        "\n",
        "5 i) General Analysis of IPL Matches \n",
        "\n",
        "    5.1 1. List of Seasons\n",
        "\n",
        "    5.2 2. First ball of IPL history\n",
        "\n",
        "    5.3 3. Season Wise IPL Matches\n",
        "\n",
        "    5.4 4. Most IPL Matches played in a Venue\n",
        "\n",
        "    5.5 5. IPL Matches Played by Each Team\n",
        "\n",
        "6 ii) IPL Batting Analysis\n",
        "\n",
        "    6.1 6. Most Run Scored by IPL Teams\n",
        "\n",
        "    6.2 7. Most IPL Runs by a Batsman\n",
        "\n",
        "    6.3 8. Avg Run by Teams in Powerplay\n",
        "\n",
        "    6.4 9. Most IPL Century by a Player\n",
        "\n",
        "    6.5 10. Most IPL Fifty by Player\n",
        "\n",
        "    6.6 11. Orange Cap Holder Each Season\n",
        "\n",
        "    6.7 12. Most Sixes in an IPL Inning\n",
        "\n",
        "    6.8 13. Most Boundary (4s) hit by a Batsman\n",
        "\n",
        "    6.9 14. Most runs in an IPL season by Player\n",
        "\n",
        "    6.10 15. No. of Sixes in IPL Seasons\n",
        "\n",
        "    6.11 16. Highest Total by IPL Teams\n",
        "\n",
        "    6.12 17. Most IPL Sixes Hit by a batsman\n",
        "\n",
        "7 iii) Bowling Statistics\n",
        "\n",
        "    7.1 19. Most run conceded by a bowler in an inning\n",
        "\n",
        "    7.2 20. Purple Cap Holders\n",
        "\n",
        "    7.3 21. Most IPL Wickets by a Bowler\n",
        "\n",
        "    7.4 22. Most Dot Ball by a Bowler\n",
        "\n",
        "    7.5 23. Most Maiden over by a Bowler\n",
        "\n",
        "    7.6 24. Most Wickets by an IPL Team\n",
        "\n",
        "    7.7 25. Most No Balls by an IPL team\n",
        "\n",
        "    7.8 26. Most No Balls by an IPL Bowler\n",
        "\n",
        "    7.9 27. Most run given by a team in Extras\n",
        "\n",
        "    7.10 28. Most Wides Conceded by an IPL team\n",
        "\n",
        "8 Conclusion\n",
        "\n",
        "    8.1 IPL Dataset Download\n",
        "\n",
        "**Introduction**\n",
        "\n",
        "Data science is the study of data to extract knowledge and insights from the data and apply knowledge and actionable insights. In this tutorial, we will work on IPL Data Analysis and Visualization Project using Python where we will explore interesting insights from the data of IPL matches like most run by a player, most wicket taken by a player, and much more from IPL season 2008-2020.\n",
        "\n",
        "So if you are an IPL cricket fan and love data analysis with Python this project is perfect for you."
      ],
      "metadata": {
        "id": "UN7jbZ1mXw7p"
      }
    },
    {
      "cell_type": "code",
      "source": [
        "import math\n",
        "import numpy as np\n",
        "import pandas as pd\n",
        "import seaborn as sns\n",
        "import matplotlib.pyplot as plt\n",
        "%matplotlib inline"
      ],
      "metadata": {
        "id": "gXkmlukxYaYT"
      },
      "execution_count": null,
      "outputs": []
    },
    {
      "cell_type": "code",
      "source": [
        "df=pd.read_csv('/content/IPL Dataset.csv')\n",
        "df.head()"
      ],
      "metadata": {
        "colab": {
          "base_uri": "https://localhost:8080/",
          "height": 473
        },
        "id": "lFhU2nTfYifD",
        "outputId": "070ca04a-bbe1-4116-b5eb-4217a24873ac"
      },
      "execution_count": null,
      "outputs": [
        {
          "output_type": "execute_result",
          "data": {
            "text/plain": [
              "   match_id  season  start_date                  venue  innings  ball  \\\n",
              "0    335982    2008  2008-04-18  M.Chinnaswamy Stadium        1   0.1   \n",
              "1    335982    2008  2008-04-18  M.Chinnaswamy Stadium        1   0.2   \n",
              "2    335982    2008  2008-04-18  M.Chinnaswamy Stadium        1   0.3   \n",
              "3    335982    2008  2008-04-18  M.Chinnaswamy Stadium        1   0.4   \n",
              "4    335982    2008  2008-04-18  M.Chinnaswamy Stadium        1   0.5   \n",
              "\n",
              "            batting_team                 bowling_team      striker  \\\n",
              "0  Kolkata Knight Riders  Royal Challengers Bangalore   SC Ganguly   \n",
              "1  Kolkata Knight Riders  Royal Challengers Bangalore  BB McCullum   \n",
              "2  Kolkata Knight Riders  Royal Challengers Bangalore  BB McCullum   \n",
              "3  Kolkata Knight Riders  Royal Challengers Bangalore  BB McCullum   \n",
              "4  Kolkata Knight Riders  Royal Challengers Bangalore  BB McCullum   \n",
              "\n",
              "   non_striker  ... runs_off_bat  extras  wides  noballs  byes  legbyes  \\\n",
              "0  BB McCullum  ...          0.0     1.0    0.0      0.0   0.0      1.0   \n",
              "1   SC Ganguly  ...          0.0     0.0    0.0      0.0   0.0      0.0   \n",
              "2   SC Ganguly  ...          0.0     1.0    1.0      0.0   0.0      0.0   \n",
              "3   SC Ganguly  ...          0.0     0.0    0.0      0.0   0.0      0.0   \n",
              "4   SC Ganguly  ...          0.0     0.0    0.0      0.0   0.0      0.0   \n",
              "\n",
              "   wicket_type player_dismissed  run  over  \n",
              "0                                1.0   0.0  \n",
              "1                                0.0   0.0  \n",
              "2                                1.0   0.0  \n",
              "3                                0.0   0.0  \n",
              "4                                0.0   0.0  \n",
              "\n",
              "[5 rows x 21 columns]"
            ],
            "text/html": [
              "\n",
              "  <div id=\"df-e40daa78-5d6e-49eb-acea-564b244b2703\">\n",
              "    <div class=\"colab-df-container\">\n",
              "      <div>\n",
              "<style scoped>\n",
              "    .dataframe tbody tr th:only-of-type {\n",
              "        vertical-align: middle;\n",
              "    }\n",
              "\n",
              "    .dataframe tbody tr th {\n",
              "        vertical-align: top;\n",
              "    }\n",
              "\n",
              "    .dataframe thead th {\n",
              "        text-align: right;\n",
              "    }\n",
              "</style>\n",
              "<table border=\"1\" class=\"dataframe\">\n",
              "  <thead>\n",
              "    <tr style=\"text-align: right;\">\n",
              "      <th></th>\n",
              "      <th>match_id</th>\n",
              "      <th>season</th>\n",
              "      <th>start_date</th>\n",
              "      <th>venue</th>\n",
              "      <th>innings</th>\n",
              "      <th>ball</th>\n",
              "      <th>batting_team</th>\n",
              "      <th>bowling_team</th>\n",
              "      <th>striker</th>\n",
              "      <th>non_striker</th>\n",
              "      <th>...</th>\n",
              "      <th>runs_off_bat</th>\n",
              "      <th>extras</th>\n",
              "      <th>wides</th>\n",
              "      <th>noballs</th>\n",
              "      <th>byes</th>\n",
              "      <th>legbyes</th>\n",
              "      <th>wicket_type</th>\n",
              "      <th>player_dismissed</th>\n",
              "      <th>run</th>\n",
              "      <th>over</th>\n",
              "    </tr>\n",
              "  </thead>\n",
              "  <tbody>\n",
              "    <tr>\n",
              "      <th>0</th>\n",
              "      <td>335982</td>\n",
              "      <td>2008</td>\n",
              "      <td>2008-04-18</td>\n",
              "      <td>M.Chinnaswamy Stadium</td>\n",
              "      <td>1</td>\n",
              "      <td>0.1</td>\n",
              "      <td>Kolkata Knight Riders</td>\n",
              "      <td>Royal Challengers Bangalore</td>\n",
              "      <td>SC Ganguly</td>\n",
              "      <td>BB McCullum</td>\n",
              "      <td>...</td>\n",
              "      <td>0.0</td>\n",
              "      <td>1.0</td>\n",
              "      <td>0.0</td>\n",
              "      <td>0.0</td>\n",
              "      <td>0.0</td>\n",
              "      <td>1.0</td>\n",
              "      <td></td>\n",
              "      <td></td>\n",
              "      <td>1.0</td>\n",
              "      <td>0.0</td>\n",
              "    </tr>\n",
              "    <tr>\n",
              "      <th>1</th>\n",
              "      <td>335982</td>\n",
              "      <td>2008</td>\n",
              "      <td>2008-04-18</td>\n",
              "      <td>M.Chinnaswamy Stadium</td>\n",
              "      <td>1</td>\n",
              "      <td>0.2</td>\n",
              "      <td>Kolkata Knight Riders</td>\n",
              "      <td>Royal Challengers Bangalore</td>\n",
              "      <td>BB McCullum</td>\n",
              "      <td>SC Ganguly</td>\n",
              "      <td>...</td>\n",
              "      <td>0.0</td>\n",
              "      <td>0.0</td>\n",
              "      <td>0.0</td>\n",
              "      <td>0.0</td>\n",
              "      <td>0.0</td>\n",
              "      <td>0.0</td>\n",
              "      <td></td>\n",
              "      <td></td>\n",
              "      <td>0.0</td>\n",
              "      <td>0.0</td>\n",
              "    </tr>\n",
              "    <tr>\n",
              "      <th>2</th>\n",
              "      <td>335982</td>\n",
              "      <td>2008</td>\n",
              "      <td>2008-04-18</td>\n",
              "      <td>M.Chinnaswamy Stadium</td>\n",
              "      <td>1</td>\n",
              "      <td>0.3</td>\n",
              "      <td>Kolkata Knight Riders</td>\n",
              "      <td>Royal Challengers Bangalore</td>\n",
              "      <td>BB McCullum</td>\n",
              "      <td>SC Ganguly</td>\n",
              "      <td>...</td>\n",
              "      <td>0.0</td>\n",
              "      <td>1.0</td>\n",
              "      <td>1.0</td>\n",
              "      <td>0.0</td>\n",
              "      <td>0.0</td>\n",
              "      <td>0.0</td>\n",
              "      <td></td>\n",
              "      <td></td>\n",
              "      <td>1.0</td>\n",
              "      <td>0.0</td>\n",
              "    </tr>\n",
              "    <tr>\n",
              "      <th>3</th>\n",
              "      <td>335982</td>\n",
              "      <td>2008</td>\n",
              "      <td>2008-04-18</td>\n",
              "      <td>M.Chinnaswamy Stadium</td>\n",
              "      <td>1</td>\n",
              "      <td>0.4</td>\n",
              "      <td>Kolkata Knight Riders</td>\n",
              "      <td>Royal Challengers Bangalore</td>\n",
              "      <td>BB McCullum</td>\n",
              "      <td>SC Ganguly</td>\n",
              "      <td>...</td>\n",
              "      <td>0.0</td>\n",
              "      <td>0.0</td>\n",
              "      <td>0.0</td>\n",
              "      <td>0.0</td>\n",
              "      <td>0.0</td>\n",
              "      <td>0.0</td>\n",
              "      <td></td>\n",
              "      <td></td>\n",
              "      <td>0.0</td>\n",
              "      <td>0.0</td>\n",
              "    </tr>\n",
              "    <tr>\n",
              "      <th>4</th>\n",
              "      <td>335982</td>\n",
              "      <td>2008</td>\n",
              "      <td>2008-04-18</td>\n",
              "      <td>M.Chinnaswamy Stadium</td>\n",
              "      <td>1</td>\n",
              "      <td>0.5</td>\n",
              "      <td>Kolkata Knight Riders</td>\n",
              "      <td>Royal Challengers Bangalore</td>\n",
              "      <td>BB McCullum</td>\n",
              "      <td>SC Ganguly</td>\n",
              "      <td>...</td>\n",
              "      <td>0.0</td>\n",
              "      <td>0.0</td>\n",
              "      <td>0.0</td>\n",
              "      <td>0.0</td>\n",
              "      <td>0.0</td>\n",
              "      <td>0.0</td>\n",
              "      <td></td>\n",
              "      <td></td>\n",
              "      <td>0.0</td>\n",
              "      <td>0.0</td>\n",
              "    </tr>\n",
              "  </tbody>\n",
              "</table>\n",
              "<p>5 rows × 21 columns</p>\n",
              "</div>\n",
              "      <button class=\"colab-df-convert\" onclick=\"convertToInteractive('df-e40daa78-5d6e-49eb-acea-564b244b2703')\"\n",
              "              title=\"Convert this dataframe to an interactive table.\"\n",
              "              style=\"display:none;\">\n",
              "        \n",
              "  <svg xmlns=\"http://www.w3.org/2000/svg\" height=\"24px\"viewBox=\"0 0 24 24\"\n",
              "       width=\"24px\">\n",
              "    <path d=\"M0 0h24v24H0V0z\" fill=\"none\"/>\n",
              "    <path d=\"M18.56 5.44l.94 2.06.94-2.06 2.06-.94-2.06-.94-.94-2.06-.94 2.06-2.06.94zm-11 1L8.5 8.5l.94-2.06 2.06-.94-2.06-.94L8.5 2.5l-.94 2.06-2.06.94zm10 10l.94 2.06.94-2.06 2.06-.94-2.06-.94-.94-2.06-.94 2.06-2.06.94z\"/><path d=\"M17.41 7.96l-1.37-1.37c-.4-.4-.92-.59-1.43-.59-.52 0-1.04.2-1.43.59L10.3 9.45l-7.72 7.72c-.78.78-.78 2.05 0 2.83L4 21.41c.39.39.9.59 1.41.59.51 0 1.02-.2 1.41-.59l7.78-7.78 2.81-2.81c.8-.78.8-2.07 0-2.86zM5.41 20L4 18.59l7.72-7.72 1.47 1.35L5.41 20z\"/>\n",
              "  </svg>\n",
              "      </button>\n",
              "      \n",
              "  <style>\n",
              "    .colab-df-container {\n",
              "      display:flex;\n",
              "      flex-wrap:wrap;\n",
              "      gap: 12px;\n",
              "    }\n",
              "\n",
              "    .colab-df-convert {\n",
              "      background-color: #E8F0FE;\n",
              "      border: none;\n",
              "      border-radius: 50%;\n",
              "      cursor: pointer;\n",
              "      display: none;\n",
              "      fill: #1967D2;\n",
              "      height: 32px;\n",
              "      padding: 0 0 0 0;\n",
              "      width: 32px;\n",
              "    }\n",
              "\n",
              "    .colab-df-convert:hover {\n",
              "      background-color: #E2EBFA;\n",
              "      box-shadow: 0px 1px 2px rgba(60, 64, 67, 0.3), 0px 1px 3px 1px rgba(60, 64, 67, 0.15);\n",
              "      fill: #174EA6;\n",
              "    }\n",
              "\n",
              "    [theme=dark] .colab-df-convert {\n",
              "      background-color: #3B4455;\n",
              "      fill: #D2E3FC;\n",
              "    }\n",
              "\n",
              "    [theme=dark] .colab-df-convert:hover {\n",
              "      background-color: #434B5C;\n",
              "      box-shadow: 0px 1px 3px 1px rgba(0, 0, 0, 0.15);\n",
              "      filter: drop-shadow(0px 1px 2px rgba(0, 0, 0, 0.3));\n",
              "      fill: #FFFFFF;\n",
              "    }\n",
              "  </style>\n",
              "\n",
              "      <script>\n",
              "        const buttonEl =\n",
              "          document.querySelector('#df-e40daa78-5d6e-49eb-acea-564b244b2703 button.colab-df-convert');\n",
              "        buttonEl.style.display =\n",
              "          google.colab.kernel.accessAllowed ? 'block' : 'none';\n",
              "\n",
              "        async function convertToInteractive(key) {\n",
              "          const element = document.querySelector('#df-e40daa78-5d6e-49eb-acea-564b244b2703');\n",
              "          const dataTable =\n",
              "            await google.colab.kernel.invokeFunction('convertToInteractive',\n",
              "                                                     [key], {});\n",
              "          if (!dataTable) return;\n",
              "\n",
              "          const docLinkHtml = 'Like what you see? Visit the ' +\n",
              "            '<a target=\"_blank\" href=https://colab.research.google.com/notebooks/data_table.ipynb>data table notebook</a>'\n",
              "            + ' to learn more about interactive tables.';\n",
              "          element.innerHTML = '';\n",
              "          dataTable['output_type'] = 'display_data';\n",
              "          await google.colab.output.renderOutput(dataTable, element);\n",
              "          const docLink = document.createElement('div');\n",
              "          docLink.innerHTML = docLinkHtml;\n",
              "          element.appendChild(docLink);\n",
              "        }\n",
              "      </script>\n",
              "    </div>\n",
              "  </div>\n",
              "  "
            ]
          },
          "metadata": {},
          "execution_count": 3
        }
      ]
    },
    {
      "cell_type": "code",
      "source": [
        "df.info()"
      ],
      "metadata": {
        "colab": {
          "base_uri": "https://localhost:8080/"
        },
        "id": "DizD6JeFY3GW",
        "outputId": "8e252742-f0ca-460f-ff2c-5bd2341caf97"
      },
      "execution_count": null,
      "outputs": [
        {
          "output_type": "stream",
          "name": "stdout",
          "text": [
            "<class 'pandas.core.frame.DataFrame'>\n",
            "RangeIndex: 178878 entries, 0 to 178877\n",
            "Data columns (total 21 columns):\n",
            " #   Column            Non-Null Count   Dtype  \n",
            "---  ------            --------------   -----  \n",
            " 0   match_id          178878 non-null  int64  \n",
            " 1   season            178878 non-null  int64  \n",
            " 2   start_date        178878 non-null  object \n",
            " 3   venue             178878 non-null  object \n",
            " 4   innings           178878 non-null  int64  \n",
            " 5   ball              178878 non-null  float64\n",
            " 6   batting_team      178878 non-null  object \n",
            " 7   bowling_team      178878 non-null  object \n",
            " 8   striker           178878 non-null  object \n",
            " 9   non_striker       178877 non-null  object \n",
            " 10  bowler            178877 non-null  object \n",
            " 11  runs_off_bat      178877 non-null  float64\n",
            " 12  extras            178877 non-null  float64\n",
            " 13  wides             178877 non-null  float64\n",
            " 14  noballs           178877 non-null  float64\n",
            " 15  byes              178877 non-null  float64\n",
            " 16  legbyes           178877 non-null  float64\n",
            " 17  wicket_type       178877 non-null  object \n",
            " 18  player_dismissed  178877 non-null  object \n",
            " 19  run               178877 non-null  float64\n",
            " 20  over              178877 non-null  float64\n",
            "dtypes: float64(9), int64(3), object(9)\n",
            "memory usage: 28.7+ MB\n"
          ]
        }
      ]
    },
    {
      "cell_type": "code",
      "source": [
        "# 1. List of Seasons\n",
        "df['season'].unique()"
      ],
      "metadata": {
        "colab": {
          "base_uri": "https://localhost:8080/"
        },
        "id": "_rpv2o8XZtkB",
        "outputId": "956b0935-ca23-4f60-b278-8a6fa302aa17"
      },
      "execution_count": null,
      "outputs": [
        {
          "output_type": "execute_result",
          "data": {
            "text/plain": [
              "array([2008, 2009, 2010, 2011, 2012, 2013, 2014, 2015, 2016, 2017, 2019,\n",
              "       2018])"
            ]
          },
          "metadata": {},
          "execution_count": 5
        }
      ]
    },
    {
      "cell_type": "code",
      "source": [
        "# 2. First ball of IPL history\n",
        "df.iloc[0]"
      ],
      "metadata": {
        "colab": {
          "base_uri": "https://localhost:8080/"
        },
        "id": "odfFvLIxZ21Y",
        "outputId": "2c77de24-15eb-4d93-e7b7-c7bba71bf4b5"
      },
      "execution_count": null,
      "outputs": [
        {
          "output_type": "execute_result",
          "data": {
            "text/plain": [
              "match_id                                 335982\n",
              "season                                     2008\n",
              "start_date                           2008-04-18\n",
              "venue                     M.Chinnaswamy Stadium\n",
              "innings                                       1\n",
              "ball                                        0.1\n",
              "batting_team              Kolkata Knight Riders\n",
              "bowling_team        Royal Challengers Bangalore\n",
              "striker                              SC Ganguly\n",
              "non_striker                         BB McCullum\n",
              "bowler                                  P Kumar\n",
              "runs_off_bat                                0.0\n",
              "extras                                      1.0\n",
              "wides                                       0.0\n",
              "noballs                                     0.0\n",
              "byes                                        0.0\n",
              "legbyes                                     1.0\n",
              "wicket_type                                    \n",
              "player_dismissed                               \n",
              "run                                         1.0\n",
              "over                                        0.0\n",
              "Name: 0, dtype: object"
            ]
          },
          "metadata": {},
          "execution_count": 6
        }
      ]
    },
    {
      "cell_type": "code",
      "source": [
        "# 3. Season Wise IPL Matches\n",
        "plt.figure(figsize=(10,8))\n",
        "data = df.groupby(['match_id','season']).count().index.droplevel(level=0).value_counts().sort_index()\n",
        "sns.barplot(y=data.index,x=data,orient='h')\n",
        "plt.xlabel('Matches Played')\n",
        "plt.ylabel('Season')\n",
        "plt.show()"
      ],
      "metadata": {
        "colab": {
          "base_uri": "https://localhost:8080/",
          "height": 497
        },
        "id": "DxLoAqS-aAzo",
        "outputId": "d1394b4c-9387-4931-b3a7-a410b7e4acdd"
      },
      "execution_count": null,
      "outputs": [
        {
          "output_type": "display_data",
          "data": {
            "text/plain": [
              "<Figure size 720x576 with 1 Axes>"
            ],
            "image/png": "[encoded data removed]"
          },
          "metadata": {
            "needs_background": "light"
          }
        }
      ]
    },
    {
      "cell_type": "code",
      "source": [
        "# 4. Most IPL Matches played in a Venue\n",
        "df.groupby(['venue','match_id']).count().droplevel(level=1).index.value_counts()"
      ],
      "metadata": {
        "colab": {
          "base_uri": "https://localhost:8080/"
        },
        "id": "N_t3wCd0aITh",
        "outputId": "ebab59a5-4dc1-4c81-b057-e4531e182bfe"
      },
      "execution_count": null,
      "outputs": [
        {
          "output_type": "execute_result",
          "data": {
            "text/plain": [
              "M.Chinnaswamy Stadium                                   80\n",
              "Eden Gardens                                            77\n",
              "Arun Jaitley Stadium                                    74\n",
              "Wankhede Stadium, Mumbai                                73\n",
              "Rajiv Gandhi International Stadium, Uppal               64\n",
              "MA Chidambaram Stadium, Chepauk, Chennai                57\n",
              "Punjab Cricket Association IS Bindra Stadium, Mohali    56\n",
              "Sawai Mansingh Stadium                                  47\n",
              "Maharashtra Cricket Association Stadium                 21\n",
              "Subrata Roy Sahara Stadium                              17\n",
              "Dr DY Patil Sports Academy                              17\n",
              "Kingsmead                                               15\n",
              "Dr. Y.S. Rajasekhara Reddy ACA-VDCA Cricket Stadium     13\n",
              "SuperSport Park                                         12\n",
              "Sardar Patel Stadium, Motera                            12\n",
              "Brabourne Stadium                                       11\n",
              "Saurashtra Cricket Association Stadium                  10\n",
              "Himachal Pradesh Cricket Association Stadium             9\n",
              "Holkar Cricket Stadium                                   9\n",
              "New Wanderers Stadium                                    8\n",
              "Newlands                                                 7\n",
              "St George's Park                                         7\n",
              "Barabati Stadium                                         7\n",
              "Sheikh Zayed Stadium                                     7\n",
              "JSCA International Stadium Complex                       7\n",
              "Dubai International Cricket Stadium                      7\n",
              "Shaheed Veer Narayan Singh International Stadium         6\n",
              "Sharjah Cricket Stadium                                  6\n",
              "Nehru Stadium                                            5\n",
              "Green Park                                               4\n",
              "Buffalo Park                                             3\n",
              "Vidarbha Cricket Association Stadium, Jamtha             3\n",
              "De Beers Diamond Oval                                    3\n",
              "OUTsurance Oval                                          2\n",
              "Name: venue, dtype: int64"
            ]
          },
          "metadata": {},
          "execution_count": 8
        }
      ]
    },
    {
      "cell_type": "code",
      "source": [
        "# 5. IPL Matches Played by Each Team\n",
        "plt.figure(figsize=(10,8))\n",
        "data = df['bowling_team'].value_counts().sort_values(ascending=False)\n",
        "sns.barplot(y=data.index,x=data,orient='h')\n",
        "plt.xlabel('Matches Played')\n",
        "plt.ylabel('Team')\n",
        "plt.show()"
      ],
      "metadata": {
        "colab": {
          "base_uri": "https://localhost:8080/",
          "height": 497
        },
        "id": "NzhySwqgaP6_",
        "outputId": "01117b53-23ff-4aaf-ab75-7d7cc7c64d19"
      },
      "execution_count": null,
      "outputs": [
        {
          "output_type": "display_data",
          "data": {
            "text/plain": [
              "<Figure size 720x576 with 1 Axes>"
            ],
            "image/png": "[encoded data removed]"
          },
          "metadata": {
            "needs_background": "light"
          }
        }
      ]
    },
    {
      "cell_type": "markdown",
      "source": [
        "# **ii) IPL Batting Analysis**\n"
      ],
      "metadata": {
        "id": "OEOmeu0haejx"
      }
    },
    {
      "cell_type": "code",
      "source": [
        "# 6. Most Run Scored by IPL Teams\n",
        "df.groupby(['batting_team'])['run'].sum().sort_values(ascending=False)"
      ],
      "metadata": {
        "colab": {
          "base_uri": "https://localhost:8080/"
        },
        "id": "lS7SgBzeao5n",
        "outputId": "72e74739-9153-40fd-93f3-deb7ac04e563"
      },
      "execution_count": null,
      "outputs": [
        {
          "output_type": "execute_result",
          "data": {
            "text/plain": [
              "batting_team\n",
              "Mumbai Indians                 29497.0\n",
              "Royal Challengers Bangalore    27966.0\n",
              "Kings XI Punjab                27707.0\n",
              "Kolkata Knight Riders          27197.0\n",
              "Chennai Super Kings            26033.0\n",
              "Delhi Daredevils               24296.0\n",
              "Rajasthan Royals               22254.0\n",
              "Sunrisers Hyderabad            16831.0\n",
              "Deccan Chargers                11463.0\n",
              "Pune Warriors                   6358.0\n",
              "Gujarat Lions                   4862.0\n",
              "Rising Pune Supergiant          4533.0\n",
              "Delhi Capitals                  2529.0\n",
              "Kochi Tuskers Kerala            1901.0\n",
              "Name: run, dtype: float64"
            ]
          },
          "metadata": {},
          "execution_count": 10
        }
      ]
    },
    {
      "cell_type": "code",
      "source": [
        "# 7. Most IPL Runs by a Batsman\n",
        "plt.figure(figsize=(10,8))\n",
        "data = df.groupby(['striker'])['runs_off_bat'].sum().sort_values(ascending=False)[:10]\n",
        "sns.barplot(y=data.index,x=data,orient='h')\n",
        "plt.xlabel('Batsman')\n",
        "plt.ylabel('Runs')\n",
        "plt.show()"
      ],
      "metadata": {
        "colab": {
          "base_uri": "https://localhost:8080/",
          "height": 497
        },
        "id": "OhOyu1Zua6Kr",
        "outputId": "2645a974-148c-41e8-ec65-2fac342fcaba"
      },
      "execution_count": null,
      "outputs": [
        {
          "output_type": "display_data",
          "data": {
            "text/plain": [
              "<Figure size 720x576 with 1 Axes>"
            ],
            "image/png": "[encoded data removed]"
          },
          "metadata": {
            "needs_background": "light"
          }
        }
      ]
    },
    {
      "cell_type": "code",
      "source": [
        "# 8. Avg Run by Teams in Powerplay\n",
        "df[df['over']<6].groupby(['match_id','batting_team']).sum()['run'].groupby('batting_team').mean().sort_values(ascending=False)[2:]"
      ],
      "metadata": {
        "colab": {
          "base_uri": "https://localhost:8080/"
        },
        "id": "o9V1DRDNbDKz",
        "outputId": "21369f41-8c23-4dab-c432-9dcfa6883f06"
      },
      "execution_count": null,
      "outputs": [
        {
          "output_type": "execute_result",
          "data": {
            "text/plain": [
              "batting_team\n",
              "Kochi Tuskers Kerala           48.571429\n",
              "Sunrisers Hyderabad            47.601852\n",
              "Rising Pune Supergiant         47.433333\n",
              "Kings XI Punjab                46.903409\n",
              "Kolkata Knight Riders          46.668539\n",
              "Delhi Daredevils               45.714286\n",
              "Deccan Chargers                45.560000\n",
              "Chennai Super Kings            45.429448\n",
              "Mumbai Indians                 45.074866\n",
              "Rajasthan Royals               44.767123\n",
              "Royal Challengers Bangalore    44.727778\n",
              "Pune Warriors                  42.111111\n",
              "Name: run, dtype: float64"
            ]
          },
          "metadata": {},
          "execution_count": 12
        }
      ]
    },
    {
      "cell_type": "code",
      "source": [
        "# 9. Most IPL Century by a Player\n",
        "runs = df.groupby(['striker','match_id'])['runs_off_bat'].sum()\n",
        "runs[runs >= 100].droplevel(level=1).groupby('striker').count().sort_values(ascending=False)[:10]"
      ],
      "metadata": {
        "colab": {
          "base_uri": "https://localhost:8080/"
        },
        "id": "F_AdWW2obO0f",
        "outputId": "ecbbae97-a15a-4b90-c6fc-0b2b8eba719c"
      },
      "execution_count": null,
      "outputs": [
        {
          "output_type": "execute_result",
          "data": {
            "text/plain": [
              "striker\n",
              "CH Gayle          6\n",
              "V Kohli           5\n",
              "DA Warner         4\n",
              "SR Watson         4\n",
              "AB de Villiers    3\n",
              "SV Samson         2\n",
              "AC Gilchrist      2\n",
              "AM Rahane         2\n",
              "V Sehwag          2\n",
              "BB McCullum       2\n",
              "Name: runs_off_bat, dtype: int64"
            ]
          },
          "metadata": {},
          "execution_count": 13
        }
      ]
    },
    {
      "cell_type": "code",
      "source": [
        "# 10. Most IPL Fifty by Player\n",
        "plt.figure(figsize=(10,8))\n",
        "runs = df.groupby(['striker','start_date'])['runs_off_bat'].sum()\n",
        "data = runs[runs >= 50].droplevel(level=1).groupby('striker').count().sort_values(ascending=False)[:10]\n",
        "sns.barplot(y=data.index,x=data,orient='h')\n",
        "plt.xlabel('Half-Centuries')\n",
        "plt.ylabel('Batsman')\n",
        "plt.show()"
      ],
      "metadata": {
        "colab": {
          "base_uri": "https://localhost:8080/",
          "height": 497
        },
        "id": "mZja9ou0bX20",
        "outputId": "327ad7f4-0804-42c3-f554-aeea958cd9fc"
      },
      "execution_count": null,
      "outputs": [
        {
          "output_type": "display_data",
          "data": {
            "text/plain": [
              "<Figure size 720x576 with 1 Axes>"
            ],
            "image/png": "[encoded data removed]"
          },
          "metadata": {
            "needs_background": "light"
          }
        }
      ]
    },
    {
      "cell_type": "code",
      "source": [
        "# 11. Orange Cap Holder Each Season\n",
        "data = df.groupby(['season','striker'])['runs_off_bat'].sum().groupby('season').max()\n",
        "temp_df=pd.DataFrame(df.groupby(['season','striker'])['runs_off_bat'].sum())\n",
        "print(\"{0:10}{1:20}{2:30}\".format(\"Season\",\"Player\",\"Runs\"))\n",
        "for season,run in data.items():\n",
        "    player = temp_df.loc[season][temp_df.loc[season]['runs_off_bat'] == run].index[0]\n",
        "    print(season,'\\t ',player,'\\t\\t',run)"
      ],
      "metadata": {
        "colab": {
          "base_uri": "https://localhost:8080/"
        },
        "id": "AoQprL5hbk56",
        "outputId": "94dcebd6-72ce-418f-c7cb-d13995c9386a"
      },
      "execution_count": null,
      "outputs": [
        {
          "output_type": "stream",
          "name": "stdout",
          "text": [
            "Season    Player              Runs                          \n",
            "2008 \t  SE Marsh \t\t 616.0\n",
            "2009 \t  ML Hayden \t\t 572.0\n",
            "2010 \t  SR Tendulkar \t\t 618.0\n",
            "2011 \t  CH Gayle \t\t 608.0\n",
            "2012 \t  CH Gayle \t\t 733.0\n",
            "2013 \t  MEK Hussey \t\t 733.0\n",
            "2014 \t  RV Uthappa \t\t 660.0\n",
            "2015 \t  DA Warner \t\t 562.0\n",
            "2016 \t  V Kohli \t\t 973.0\n",
            "2017 \t  DA Warner \t\t 641.0\n",
            "2018 \t  KS Williamson \t\t 735.0\n",
            "2019 \t  DA Warner \t\t 692.0\n"
          ]
        }
      ]
    },
    {
      "cell_type": "code",
      "source": [
        "# 12. Most Sixes in an IPL Inning\n",
        "df[df['runs_off_bat'] == 6].groupby(['start_date','striker']).count()['season'].sort_values(ascending=False).droplevel(level=0)[:10]"
      ],
      "metadata": {
        "colab": {
          "base_uri": "https://localhost:8080/"
        },
        "id": "cA0dNYovbtZZ",
        "outputId": "f1e53eb2-07ff-4487-a1b2-63828b0350f2"
      },
      "execution_count": null,
      "outputs": [
        {
          "output_type": "execute_result",
          "data": {
            "text/plain": [
              "striker\n",
              "CH Gayle          17\n",
              "BB McCullum       13\n",
              "CH Gayle          13\n",
              "AB de Villiers    12\n",
              "CH Gayle          12\n",
              "M Vijay           11\n",
              "CH Gayle          11\n",
              "ST Jayasuriya     11\n",
              "AD Russell        11\n",
              "SS Iyer           10\n",
              "Name: season, dtype: int64"
            ]
          },
          "metadata": {},
          "execution_count": 16
        }
      ]
    },
    {
      "cell_type": "code",
      "source": [
        "# 13. Most Boundary (4s) hit by a Batsman\n",
        "plt.figure(figsize=(10,8))\n",
        "data = df[df['runs_off_bat'] == 4]['striker'].value_counts()[:10]\n",
        "sns.barplot(y=data.index,x=data,orient='h')\n",
        "plt.xlabel('Fours')\n",
        "plt.ylabel('Batsman')\n",
        "plt.show()"
      ],
      "metadata": {
        "colab": {
          "base_uri": "https://localhost:8080/",
          "height": 497
        },
        "id": "UjKUw4Xeb04V",
        "outputId": "f0e6d3c5-fffc-4037-ac48-6fe88741a264"
      },
      "execution_count": null,
      "outputs": [
        {
          "output_type": "display_data",
          "data": {
            "text/plain": [
              "<Figure size 720x576 with 1 Axes>"
            ],
            "image/png": "[encoded data removed]"
          },
          "metadata": {
            "needs_background": "light"
          }
        }
      ]
    },
    {
      "cell_type": "code",
      "source": [
        "# 14. Most runs in an IPL season by Player\n",
        "df.groupby(['striker','season'])['runs_off_bat'].sum().sort_values(ascending=False)[:10]"
      ],
      "metadata": {
        "colab": {
          "base_uri": "https://localhost:8080/"
        },
        "id": "bIINo-aFb8Kl",
        "outputId": "df45deea-deae-44c8-b6d9-5ae071400a79"
      },
      "execution_count": null,
      "outputs": [
        {
          "output_type": "execute_result",
          "data": {
            "text/plain": [
              "striker         season\n",
              "V Kohli         2016      973.0\n",
              "DA Warner       2016      848.0\n",
              "KS Williamson   2018      735.0\n",
              "CH Gayle        2012      733.0\n",
              "MEK Hussey      2013      733.0\n",
              "CH Gayle        2013      720.0\n",
              "DA Warner       2019      692.0\n",
              "AB de Villiers  2016      687.0\n",
              "RR Pant         2018      684.0\n",
              "RV Uthappa      2014      660.0\n",
              "Name: runs_off_bat, dtype: float64"
            ]
          },
          "metadata": {},
          "execution_count": 18
        }
      ]
    },
    {
      "cell_type": "code",
      "source": [
        "# 15. No. of Sixes in IPL Seasons\n",
        "plt.figure(figsize=(10,8))\n",
        "data = df[df['runs_off_bat'] == 6].groupby('season').count()['match_id'].sort_values(ascending=False)\n",
        "sns.barplot(y=data.index,x=data,orient='h')\n",
        "plt.xlabel('Sixes')\n",
        "plt.ylabel('Season')\n",
        "plt.show()"
      ],
      "metadata": {
        "colab": {
          "base_uri": "https://localhost:8080/",
          "height": 497
        },
        "id": "1SToRHUZcDSF",
        "outputId": "1921af12-e09d-4507-8909-b62f96d0626b"
      },
      "execution_count": null,
      "outputs": [
        {
          "output_type": "display_data",
          "data": {
            "text/plain": [
              "<Figure size 720x576 with 1 Axes>"
            ],
            "image/png": "[encoded data removed]"
          },
          "metadata": {
            "needs_background": "light"
          }
        }
      ]
    },
    {
      "cell_type": "code",
      "source": [
        "# 16. Highest Total by IPL Teams\n",
        "df.groupby(['start_date','batting_team']).sum()['run'].droplevel(level=0).sort_values(ascending=False)[:10]"
      ],
      "metadata": {
        "colab": {
          "base_uri": "https://localhost:8080/"
        },
        "id": "RC8AU3tHcKB7",
        "outputId": "2dd428fe-adad-40be-f712-45a5ee8341a8"
      },
      "execution_count": null,
      "outputs": [
        {
          "output_type": "execute_result",
          "data": {
            "text/plain": [
              "batting_team\n",
              "Royal Challengers Bangalore    263.0\n",
              "Royal Challengers Bangalore    248.0\n",
              "Chennai Super Kings            246.0\n",
              "Kolkata Knight Riders          245.0\n",
              "Chennai Super Kings            240.0\n",
              "Royal Challengers Bangalore    235.0\n",
              "Kings XI Punjab                232.0\n",
              "Kolkata Knight Riders          232.0\n",
              "Delhi Daredevils               231.0\n",
              "Kings XI Punjab                231.0\n",
              "Name: run, dtype: float64"
            ]
          },
          "metadata": {},
          "execution_count": 20
        }
      ]
    },
    {
      "cell_type": "code",
      "source": [
        "# 17. Most IPL Sixes Hit by a batsman\n",
        "plt.figure(figsize=(10,8))\n",
        "data = df[df['runs_off_bat'] == 6]['striker'].value_counts()[:10]\n",
        "sns.barplot(y=data.index,x=data,orient='h')\n",
        "plt.xlabel('Sixes')\n",
        "plt.ylabel('Batsman')\n",
        "plt.show()"
      ],
      "metadata": {
        "colab": {
          "base_uri": "https://localhost:8080/",
          "height": 497
        },
        "id": "Febjo37OcSUz",
        "outputId": "60696fb2-ec4f-4a90-de39-232e32b16c1e"
      },
      "execution_count": null,
      "outputs": [
        {
          "output_type": "display_data",
          "data": {
            "text/plain": [
              "<Figure size 720x576 with 1 Axes>"
            ],
            "image/png": "[encoded data removed]"
          },
          "metadata": {
            "needs_background": "light"
          }
        }
      ]
    },
    {
      "cell_type": "code",
      "source": [
        "# 18. Highest Individual IPL Score\n",
        "df.groupby(['striker','start_date'])['runs_off_bat'].sum().sort_values(ascending=False)[:10]"
      ],
      "metadata": {
        "colab": {
          "base_uri": "https://localhost:8080/"
        },
        "id": "7PNW-HF7cYtK",
        "outputId": "d594fdb1-5e80-461e-ba0b-919618d829aa"
      },
      "execution_count": null,
      "outputs": [
        {
          "output_type": "execute_result",
          "data": {
            "text/plain": [
              "striker         start_date\n",
              "CH Gayle        2013-04-23    175.0\n",
              "BB McCullum     2008-04-18    158.0\n",
              "AB de Villiers  2015-05-10    133.0\n",
              "                2016-05-14    129.0\n",
              "CH Gayle        2012-05-17    128.0\n",
              "RR Pant         2018-05-10    128.0\n",
              "M Vijay         2010-04-03    127.0\n",
              "DA Warner       2017-04-30    126.0\n",
              "V Sehwag        2014-05-30    122.0\n",
              "PC Valthaty     2011-04-13    120.0\n",
              "Name: runs_off_bat, dtype: float64"
            ]
          },
          "metadata": {},
          "execution_count": 22
        }
      ]
    },
    {
      "cell_type": "markdown",
      "source": [
        "# iii) Bowling Statistics \n",
        "\n"
      ],
      "metadata": {
        "id": "K6KZNiZmciP7"
      }
    },
    {
      "cell_type": "code",
      "source": [
        "# 19. Most run conceded by a bowler in an inning\n",
        "df.groupby(['bowler','start_date'])['run'].sum().droplevel(level=1).sort_values(ascending=False)[:10]"
      ],
      "metadata": {
        "colab": {
          "base_uri": "https://localhost:8080/"
        },
        "id": "UH_Rbna9c1P1",
        "outputId": "7acf67f2-b765-4dff-fd4d-875bd70a40b5"
      },
      "execution_count": null,
      "outputs": [
        {
          "output_type": "execute_result",
          "data": {
            "text/plain": [
              "bowler\n",
              "Basil Thampi        70.0\n",
              "I Sharma            66.0\n",
              "Sandeep Sharma      66.0\n",
              "Mujeeb Ur Rahman    66.0\n",
              "UT Yadav            65.0\n",
              "PJ Cummins          65.0\n",
              "AB Dinda            63.0\n",
              "VR Aaron            63.0\n",
              "TG Southee          62.0\n",
              "PP Chawla           62.0\n",
              "Name: run, dtype: float64"
            ]
          },
          "metadata": {},
          "execution_count": 23
        }
      ]
    },
    {
      "cell_type": "code",
      "source": [
        "# 20. Purple Cap Holders\n",
        "lst = 'caught,bowled,lbw,stumped,caught and bowled,hit wicket'\n",
        "data = df[df['wicket_type'].apply(lambda x: True if str(x) in lst and x != ' ' else False)].groupby(['season','bowler']).count()['ball']\n",
        "data=data.sort_values(ascending=False)[:30].sort_index(level=0)\n",
        "val=0\n",
        "lst=[]\n",
        "print(\"{0:10}{1:20}{2:30}\".format(\"Season\",\"Player\",\"Runs\"))\n",
        "for (season,bowler),wicket in data.items():\n",
        "    if season == val:\n",
        "        lst.append(wicket)        \n",
        "    else:\n",
        "        print(season,'\\t ',bowler,'\\t\\t',wicket)\n",
        "        val = season\n",
        "        lst=[]"
      ],
      "metadata": {
        "colab": {
          "base_uri": "https://localhost:8080/"
        },
        "id": "xprto9vPdASf",
        "outputId": "c96c2e2a-092a-4d63-8947-897dd02c8219"
      },
      "execution_count": null,
      "outputs": [
        {
          "output_type": "stream",
          "name": "stdout",
          "text": [
            "Season    Player              Runs                          \n",
            "2008 \t  Sohail Tanvir \t\t 22\n",
            "2009 \t  RP Singh \t\t 23\n",
            "2010 \t  PP Ojha \t\t 21\n",
            "2011 \t  MM Patel \t\t 22\n",
            "2012 \t  M Morkel \t\t 25\n",
            "2013 \t  A Mishra \t\t 21\n",
            "2014 \t  MM Sharma \t\t 23\n",
            "2015 \t  A Nehra \t\t 22\n",
            "2016 \t  B Kumar \t\t 23\n",
            "2017 \t  B Kumar \t\t 26\n",
            "2018 \t  AJ Tye \t\t 24\n",
            "2019 \t  Imran Tahir \t\t 24\n"
          ]
        }
      ]
    },
    {
      "cell_type": "code",
      "source": [
        "# 21. Most IPL Wickets by a Bowler\n",
        "lst = 'caught,bowled,lbw,stumped,caught and bowled,hit wicket'\n",
        "df[df['wicket_type'].apply(lambda x: True if str(x) in lst and x != ' ' else False)]['bowler'].value_counts()[:10]"
      ],
      "metadata": {
        "colab": {
          "base_uri": "https://localhost:8080/"
        },
        "id": "dvc-bu7nd6NU",
        "outputId": "40d5b6f0-cd75-4b26-a8f8-8e2e2c910fca"
      },
      "execution_count": null,
      "outputs": [
        {
          "output_type": "execute_result",
          "data": {
            "text/plain": [
              "SL Malinga         169\n",
              "A Mishra           157\n",
              "PP Chawla          150\n",
              "Harbhajan Singh    150\n",
              "DJ Bravo           147\n",
              "B Kumar            133\n",
              "R Ashwin           125\n",
              "SP Narine          122\n",
              "UT Yadav           119\n",
              "RA Jadeja          108\n",
              "Name: bowler, dtype: int64"
            ]
          },
          "metadata": {},
          "execution_count": 29
        }
      ]
    },
    {
      "cell_type": "code",
      "source": [
        "# 22. Most Dot Ball by a Bowler\n",
        "plt.figure(figsize=(10,8))\n",
        "data = df[df['run'] == 0].groupby('bowler').count()['match_id'].sort_values(ascending=False)[:10]\n",
        "sns.barplot(y=data.index,x=data,orient='h')\n",
        "plt.xlabel('Dot Balls')\n",
        "plt.ylabel('bowler')\n",
        "plt.show()"
      ],
      "metadata": {
        "colab": {
          "base_uri": "https://localhost:8080/",
          "height": 497
        },
        "id": "s98_hZL9eWj9",
        "outputId": "b07020e1-bf74-4369-bab5-fb9c5b7c4ecd"
      },
      "execution_count": null,
      "outputs": [
        {
          "output_type": "display_data",
          "data": {
            "text/plain": [
              "<Figure size 720x576 with 1 Axes>"
            ],
            "image/png": "[encoded data removed]"
          },
          "metadata": {
            "needs_background": "light"
          }
        }
      ]
    },
    {
      "cell_type": "code",
      "source": [
        "# 23. Most Maiden over by a Bowler\n",
        "data = df.groupby(['start_date','bowler','over'])['run'].sum()\n",
        "data = data[data.values == 0].droplevel(level=[0,2])\n",
        "data.index.value_counts()[:10]"
      ],
      "metadata": {
        "colab": {
          "base_uri": "https://localhost:8080/"
        },
        "id": "rUgQAFfcefXZ",
        "outputId": "473a042f-2247-440b-ea2f-cad337638534"
      },
      "execution_count": null,
      "outputs": [
        {
          "output_type": "execute_result",
          "data": {
            "text/plain": [
              "P Kumar           12\n",
              "IK Pathan          9\n",
              "DW Steyn           8\n",
              "SL Malinga         8\n",
              "B Kumar            7\n",
              "DS Kulkarni        7\n",
              "Sandeep Sharma     6\n",
              "DJ Bravo           6\n",
              "Z Khan             5\n",
              "R Ashwin           5\n",
              "Name: bowler, dtype: int64"
            ]
          },
          "metadata": {},
          "execution_count": 31
        }
      ]
    },
    {
      "cell_type": "code",
      "source": [
        "# 24. Most Wickets by an IPL Team\n",
        "plt.figure(figsize=(10,8))\n",
        "lst = 'caught,bowled,lbw,stumped,caught and bowled,hit wicket'\n",
        "data = df[df['wicket_type'].apply(lambda x: True if str(x) in lst and x != ' ' else False)]['bowling_team'].value_counts()\n",
        "df.groupby(['batting_team'])['extras'].agg('sum').sort_values(ascending=False)\n",
        "sns.barplot(y=data.index,x=data,orient='h')\n",
        "plt.xlabel('Wickets')\n",
        "plt.ylabel('Teams')\n",
        "plt.show()"
      ],
      "metadata": {
        "colab": {
          "base_uri": "https://localhost:8080/",
          "height": 497
        },
        "id": "5x-QVOEHesoy",
        "outputId": "412e575f-a361-4cc4-ec1d-2ad7ccc4107b"
      },
      "execution_count": null,
      "outputs": [
        {
          "output_type": "display_data",
          "data": {
            "text/plain": [
              "<Figure size 720x576 with 1 Axes>"
            ],
            "image/png": "[encoded data removed]"
          },
          "metadata": {
            "needs_background": "light"
          }
        }
      ]
    },
    {
      "cell_type": "code",
      "source": [
        "# 25. Most No Balls by an IPL team\n",
        "df.groupby(['batting_team'])['noballs'].agg('sum').sort_values(ascending=False)"
      ],
      "metadata": {
        "colab": {
          "base_uri": "https://localhost:8080/"
        },
        "id": "Lsi4wdqQe4YY",
        "outputId": "b4737a14-9451-4c07-9163-66b1c8bba2bf"
      },
      "execution_count": null,
      "outputs": [
        {
          "output_type": "execute_result",
          "data": {
            "text/plain": [
              "batting_team\n",
              "Royal Challengers Bangalore    97.0\n",
              "Chennai Super Kings            90.0\n",
              "Mumbai Indians                 90.0\n",
              "Kolkata Knight Riders          86.0\n",
              "Rajasthan Royals               86.0\n",
              "Delhi Daredevils               73.0\n",
              "Kings XI Punjab                65.0\n",
              "Deccan Chargers                49.0\n",
              "Sunrisers Hyderabad            47.0\n",
              "Pune Warriors                  24.0\n",
              "Gujarat Lions                  17.0\n",
              "Kochi Tuskers Kerala           11.0\n",
              "Delhi Capitals                  8.0\n",
              "Rising Pune Supergiant          8.0\n",
              "Name: noballs, dtype: float64"
            ]
          },
          "metadata": {},
          "execution_count": 34
        }
      ]
    },
    {
      "cell_type": "code",
      "source": [
        "# 26. Most No Balls by an IPL Bowler\n",
        "df[df['noballs'] != 0]['bowler'].value_counts()[:10]"
      ],
      "metadata": {
        "colab": {
          "base_uri": "https://localhost:8080/"
        },
        "id": "oOc3JeTPe_JK",
        "outputId": "b2f8a655-a11b-497e-f812-aceeee109011"
      },
      "execution_count": null,
      "outputs": [
        {
          "output_type": "execute_result",
          "data": {
            "text/plain": [
              "S Sreesanth    23\n",
              "JJ Bumrah      22\n",
              "I Sharma       21\n",
              "A Mishra       20\n",
              "SL Malinga     18\n",
              "UT Yadav       18\n",
              "AB Dinda       14\n",
              "M Morkel       13\n",
              "RP Singh       13\n",
              "JA Morkel      13\n",
              "Name: bowler, dtype: int64"
            ]
          },
          "metadata": {},
          "execution_count": 35
        }
      ]
    },
    {
      "cell_type": "code",
      "source": [
        "# 27. Most run given by a team in Extras\n",
        "plt.figure(figsize=(10,8))\n",
        "data = df.groupby(['batting_team'])['extras'].agg('sum').sort_values(ascending=False)\n",
        "sns.barplot(y=data.index,x=data,orient='h')\n",
        "plt.xlabel('Runs')\n",
        "plt.ylabel('Teams')\n",
        "plt.show()"
      ],
      "metadata": {
        "colab": {
          "base_uri": "https://localhost:8080/",
          "height": 497
        },
        "id": "unzBP4zdfF34",
        "outputId": "19a6c565-0ee7-402f-e153-e0d0f3dcc9c9"
      },
      "execution_count": null,
      "outputs": [
        {
          "output_type": "display_data",
          "data": {
            "text/plain": [
              "<Figure size 720x576 with 1 Axes>"
            ],
            "image/png": "[encoded data removed]"
          },
          "metadata": {
            "needs_background": "light"
          }
        }
      ]
    },
    {
      "cell_type": "code",
      "source": [
        "# 28. Most Wides Conceded by an IPL team\n",
        "df.groupby(['batting_team'])['wides'].agg('sum').sort_values(ascending=False)"
      ],
      "metadata": {
        "colab": {
          "base_uri": "https://localhost:8080/"
        },
        "id": "pTUysRu5fOKW",
        "outputId": "9b6c80ef-7e4e-44e0-a69a-116845a89a27"
      },
      "execution_count": null,
      "outputs": [
        {
          "output_type": "execute_result",
          "data": {
            "text/plain": [
              "batting_team\n",
              "Mumbai Indians                 948.0\n",
              "Kolkata Knight Riders          852.0\n",
              "Kings XI Punjab                729.0\n",
              "Royal Challengers Bangalore    726.0\n",
              "Delhi Daredevils               717.0\n",
              "Chennai Super Kings            713.0\n",
              "Rajasthan Royals               601.0\n",
              "Sunrisers Hyderabad            457.0\n",
              "Deccan Chargers                279.0\n",
              "Pune Warriors                  169.0\n",
              "Gujarat Lions                  134.0\n",
              "Rising Pune Supergiant         118.0\n",
              "Kochi Tuskers Kerala            89.0\n",
              "Delhi Capitals                  46.0\n",
              "Name: wides, dtype: float64"
            ]
          },
          "metadata": {},
          "execution_count": 37
        }
      ]
    },
    {
      "cell_type": "markdown",
      "source": [
        "# Conclusion\n",
        "\n",
        "Hope you liked our project on IPL Data analysis and Visualization using Python. We just listed some basics to medium-advanced analysis over here, to give you an idea of how to use the data set. You can come up with your own data analysis of IPL data with Python libraries and even do some machine learning projects.\n"
      ],
      "metadata": {
        "id": "mnYh8p-bfvZB"
      }
    }
  ]
}